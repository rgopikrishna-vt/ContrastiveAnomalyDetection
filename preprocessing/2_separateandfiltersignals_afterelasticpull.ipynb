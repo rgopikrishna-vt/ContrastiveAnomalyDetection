{
 "cells": [
  {
   "cell_type": "code",
   "execution_count": 1,
   "id": "exact-annual",
   "metadata": {},
   "outputs": [],
   "source": [
    "import pandas as pd \n",
    "import bz2\n",
    "import pickle\n",
    "import os\n",
    "import shutil\n",
    "import json\n",
    "import tqdm\n",
    "import multiprocessing"
   ]
  },
  {
   "cell_type": "code",
   "execution_count": 2,
   "id": "faced-injury",
   "metadata": {},
   "outputs": [],
   "source": [
    "path = '/home/rgopikrishna/vrif/data/newomnisig-kop-*_8apr21to8jun21'"
   ]
  },
  {
   "cell_type": "code",
   "execution_count": 3,
   "id": "pressed-investigation",
   "metadata": {},
   "outputs": [
    {
     "data": {
      "text/plain": [
       "(29280,\n",
       " '2021-04-08-04-00-00_2021-04-08-04-03-00.pkl.bz2',\n",
       " '2021-06-08-03-57-00_2021-06-08-04-00-00.pkl.bz2')"
      ]
     },
     "execution_count": 3,
     "metadata": {},
     "output_type": "execute_result"
    }
   ],
   "source": [
    "len(os.listdir(path)),os.listdir(path)[0],os.listdir(path)[len(os.listdir(path))-1]"
   ]
  },
  {
   "cell_type": "code",
   "execution_count": 5,
   "id": "dental-repair",
   "metadata": {},
   "outputs": [],
   "source": [
    "zfile = bz2.BZ2File('/home/rgopikrishna/vrif/data/newomnisig-kop-*_8apr21to8jun21/2021-06-08-03-57-00_2021-06-08-04-00-00.pkl.bz2','rb')\n",
    "data = pickle.load(zfile)"
   ]
  },
  {
   "cell_type": "code",
   "execution_count": 6,
   "id": "plain-heart",
   "metadata": {},
   "outputs": [
    {
     "data": {
      "text/plain": [
       "{'_index': 'newomnisig-kop-000038',\n",
       " '_type': '_doc',\n",
       " '_id': '1sDG6XkBsljR9TZ_PFoC',\n",
       " '_score': 0.0,\n",
       " '_source': {'agent': {'hostname': 'xavier1',\n",
       "   'type': 'omnisig',\n",
       "   'version': '2.2.0'},\n",
       "  'process': {'name': 'omnisig'},\n",
       "  'message': 'FM signal detected',\n",
       "  'radio': {'sample_rate': 40000000.0,\n",
       "   'center_frequency': 820000000.0,\n",
       "   'gain': 32.0},\n",
       "  'tags': ['omnisig', 'FM'],\n",
       "  '@timestamp': '2021-06-08T03:59:12.460316Z',\n",
       "  'ecs': {'version': '1.5'},\n",
       "  'host': {'geo': {'location': {'lon': -75.39054870605469,\n",
       "     'lat': 40.11270523071289},\n",
       "    'altitude_meters': 50.400001525878906},\n",
       "   'hostname': 'xavier1',\n",
       "   'name': 'xavier1'},\n",
       "  'event': {'duration': 1638400,\n",
       "   'kind': 'event',\n",
       "   'module': 'omnisig',\n",
       "   'type': 'info',\n",
       "   'dataset': 'omnisig.detector'},\n",
       "  'signal': {'date': 1623124752460,\n",
       "   'hour_utc': 3,\n",
       "   'rssi': -31.402961240158746,\n",
       "   'hour_local': 23,\n",
       "   'bandwidth': 20360.74642086029,\n",
       "   'energy_estimate': 14.740002971993801,\n",
       "   'confidence': 0.8526962399482727,\n",
       "   'frequency_upper_edge': 815937914.7482104,\n",
       "   'day_of_week_utc': 'Tuesday',\n",
       "   'in_expected_band': 'Unknown',\n",
       "   'description': 'FM',\n",
       "   'day_of_week_local': 'Monday',\n",
       "   'snr_estimate': 4.906639589919379,\n",
       "   'center_frequency': 815927734.375,\n",
       "   'mhz_band': 800,\n",
       "   'frequency_lower_edge': 815917554.0017896,\n",
       "   'sample_count': 65536,\n",
       "   'global_index': 18774319583759}}}"
      ]
     },
     "execution_count": 6,
     "metadata": {},
     "output_type": "execute_result"
    }
   ],
   "source": [
    "data[0]"
   ]
  },
  {
   "cell_type": "code",
   "execution_count": 7,
   "id": "reliable-reservoir",
   "metadata": {},
   "outputs": [],
   "source": [
    "def extractfmp25ltefrom3minfile(file):\n",
    "    zfile = bz2.BZ2File(path+'/'+file,'rb')\n",
    "    data = pickle.load(zfile)\n",
    "    \n",
    "    filtereddatafm = []\n",
    "    filtereddatap25 = []\n",
    "    filtereddatalte = []\n",
    "    \n",
    "    for idx,pkt in enumerate(data): \n",
    "        if 'LTE' in pkt['_source']['tags']:\n",
    "            filtereddatalte.append(pkt)\n",
    "        if 'FM' in pkt['_source']['tags']:\n",
    "            filtereddatafm.append(pkt)\n",
    "        if 'P25' in pkt['_source']['tags']:\n",
    "            filtereddatap25.append(pkt)\n",
    "\n",
    "    with open('/home/rgopikrishna/vrif/data/newomnisig-kop-*_8apr21to8jun21_signalsseperated/lte_8apr21to8jun21/'+file.split('.pkl.bz2')[0]+'.pkl',\"wb\") as f:\n",
    "        pickle.dump(filtereddatalte,f)\n",
    "    with open('/home/rgopikrishna/vrif/data/newomnisig-kop-*_8apr21to8jun21_signalsseperated/fm_8apr21to8jun21/'+file.split('.pkl.bz2')[0]+'.pkl',\"wb\") as f:\n",
    "        pickle.dump(filtereddatafm,f)\n",
    "    with open('/home/rgopikrishna/vrif/data/newomnisig-kop-*_8apr21to8jun21_signalsseperated/p25_8apr21to8jun21/'+file.split('.pkl.bz2')[0]+'.pkl',\"wb\") as f:\n",
    "        pickle.dump(filtereddatap25,f)"
   ]
  },
  {
   "cell_type": "code",
   "execution_count": 8,
   "id": "international-delhi",
   "metadata": {},
   "outputs": [
    {
     "name": "stdout",
     "output_type": "stream",
     "text": [
      "CPU times: user 959 ms, sys: 975 ms, total: 1.93 s\n",
      "Wall time: 5min 18s\n"
     ]
    }
   ],
   "source": [
    "%%time\n",
    "p = multiprocessing.Pool(multiprocessing.cpu_count())\n",
    "p.map(extractfmp25ltefrom3minfile,os.listdir(path))"
   ]
  },
  {
   "cell_type": "code",
   "execution_count": 10,
   "id": "unknown-invitation",
   "metadata": {},
   "outputs": [
    {
     "name": "stdout",
     "output_type": "stream",
     "text": [
      "29280\n",
      "29280\n",
      "29280\n"
     ]
    }
   ],
   "source": [
    "print(len(os.listdir('/home/rgopikrishna/vrif/data/newomnisig-kop-*_8apr21to8jun21_signalsseperated/lte_8apr21to8jun21')))\n",
    "print(len(os.listdir('/home/rgopikrishna/vrif/data/newomnisig-kop-*_8apr21to8jun21_signalsseperated/fm_8apr21to8jun21')))\n",
    "print(len(os.listdir('/home/rgopikrishna/vrif/data/newomnisig-kop-*_8apr21to8jun21_signalsseperated/p25_8apr21to8jun21')))"
   ]
  },
  {
   "cell_type": "code",
   "execution_count": 11,
   "id": "sustained-ordering",
   "metadata": {},
   "outputs": [
    {
     "name": "stderr",
     "output_type": "stream",
     "text": [
      "26it [00:00, 254.78it/s]"
     ]
    },
    {
     "name": "stdout",
     "output_type": "stream",
     "text": [
      "29280\n",
      "/home/rgopikrishna/vrif_working/data/newomnisig-kop-*_8apr21to8jun21_signalsseperated/lte_8apr21to8jun21\n",
      "['2021-04-09-07-27-00_2021-04-09-07-30-00.pkl', '2021-04-08-22-18-00_2021-04-08-22-21-00.pkl', '2021-04-08-04-00-00_2021-04-08-04-03-00.pkl', '2021-04-11-05-12-00_2021-04-11-05-15-00.pkl', '2021-04-10-20-03-00_2021-04-10-20-06-00.pkl', '2021-04-16-04-09-00_2021-04-16-04-12-00.pkl', '2021-04-21-21-24-00_2021-04-21-21-27-00.pkl', '2021-04-13-21-15-00_2021-04-13-21-18-00.pkl', '2021-04-22-15-42-00_2021-04-22-15-45-00.pkl', '2021-04-15-19-00-00_2021-04-15-19-03-00.pkl']\n"
     ]
    },
    {
     "name": "stderr",
     "output_type": "stream",
     "text": [
      "29280it [03:28, 140.68it/s]\n"
     ]
    },
    {
     "name": "stdout",
     "output_type": "stream",
     "text": [
      "29280\n",
      "/home/rgopikrishna/vrif_working/data/newomnisig-kop-*_8apr21to8jun21_signalsseperated/fm_8apr21to8jun21\n",
      "['2021-04-09-07-27-00_2021-04-09-07-30-00.pkl', '2021-04-08-22-18-00_2021-04-08-22-21-00.pkl', '2021-04-11-05-12-00_2021-04-11-05-15-00.pkl', '2021-04-08-04-00-00_2021-04-08-04-03-00.pkl', '2021-04-21-21-24-00_2021-04-21-21-27-00.pkl', '2021-04-10-20-03-00_2021-04-10-20-06-00.pkl', '2021-04-16-04-09-00_2021-04-16-04-12-00.pkl', '2021-04-22-15-42-00_2021-04-22-15-45-00.pkl', '2021-04-13-21-15-00_2021-04-13-21-18-00.pkl', '2021-04-15-19-00-00_2021-04-15-19-03-00.pkl']\n"
     ]
    },
    {
     "name": "stderr",
     "output_type": "stream",
     "text": [
      "29280it [02:49, 172.82it/s]\n"
     ]
    },
    {
     "name": "stdout",
     "output_type": "stream",
     "text": [
      "29280\n",
      "/home/rgopikrishna/vrif_working/data/newomnisig-kop-*_8apr21to8jun21_signalsseperated/p25_8apr21to8jun21\n",
      "['2021-04-09-07-27-00_2021-04-09-07-30-00.pkl', '2021-04-08-22-18-00_2021-04-08-22-21-00.pkl', '2021-04-11-05-12-00_2021-04-11-05-15-00.pkl', '2021-04-08-04-00-00_2021-04-08-04-03-00.pkl', '2021-04-21-21-24-00_2021-04-21-21-27-00.pkl', '2021-04-10-20-03-00_2021-04-10-20-06-00.pkl', '2021-04-16-04-09-00_2021-04-16-04-12-00.pkl', '2021-04-22-15-42-00_2021-04-22-15-45-00.pkl', '2021-04-15-19-00-00_2021-04-15-19-03-00.pkl', '2021-04-13-21-15-00_2021-04-13-21-18-00.pkl']\n"
     ]
    },
    {
     "name": "stderr",
     "output_type": "stream",
     "text": [
      "29280it [11:38, 41.90it/s] \n"
     ]
    }
   ],
   "source": [
    "for band in ['lte','fm','p25']:\n",
    "    path = '/home/rgopikrishna/vrif/data/newomnisig-kop-*_8apr21to8jun21_signalsseperated/{}_8apr21to8jun21'.format(band)\n",
    "    print(len(os.listdir(path)))\n",
    "    print(path)\n",
    "    print(os.listdir(path)[:10])\n",
    "\n",
    "    packets = []\n",
    "    for idx,file in tqdm.tqdm(enumerate(os.listdir(path))):\n",
    "        with open(path+'/'+file,'rb') as f:\n",
    "            data = pickle.load(f)\n",
    "        for pkt in data:\n",
    "            packets.append({\n",
    "                'timestamp':pkt['_source']['@timestamp'],\n",
    "                'frequency':pkt['_source']['signal']['center_frequency'],\n",
    "                'bandwidth':pkt['_source']['signal']['bandwidth'],\n",
    "                'rssi':pkt['_source']['signal']['rssi'],\n",
    "                'tag':pkt['_source']['tags']})\n",
    "\n",
    "    with open('/home/rgopikrishna/vrif/data/newomnisig-kop-*_8apr21to8jun21_signalsseperated/filteredpackets_{}_8apr21to8jun21.json'.format(band),'a') as file:\n",
    "        for item in packets:\n",
    "            file.write(json.dumps(item)+\"\\n\")"
   ]
  },
  {
   "cell_type": "code",
   "execution_count": null,
   "id": "musical-trance",
   "metadata": {},
   "outputs": [],
   "source": []
  }
 ],
 "metadata": {
  "kernelspec": {
   "display_name": "Python 3",
   "language": "python",
   "name": "python3"
  },
  "language_info": {
   "codemirror_mode": {
    "name": "ipython",
    "version": 3
   },
   "file_extension": ".py",
   "mimetype": "text/x-python",
   "name": "python",
   "nbconvert_exporter": "python",
   "pygments_lexer": "ipython3",
   "version": "3.6.12"
  }
 },
 "nbformat": 4,
 "nbformat_minor": 5
}
